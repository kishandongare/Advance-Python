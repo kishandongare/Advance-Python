{
 "cells": [
  {
   "cell_type": "markdown",
   "id": "829dee05",
   "metadata": {},
   "source": [
    "# Searching"
   ]
  },
  {
   "cell_type": "code",
   "execution_count": 4,
   "id": "ec790e8f",
   "metadata": {},
   "outputs": [
    {
     "name": "stdout",
     "output_type": "stream",
     "text": [
      "Enter size of array :4\n",
      "Enter values :8\n",
      "Enter values :6\n",
      "Enter values :4\n",
      "Enter values :7\n",
      "Enter search value:10\n",
      "value not found\n"
     ]
    }
   ],
   "source": [
    "n = int(input(\"Enter size of array :\"))\n",
    "l = [int(input(\"Enter values :\")) for i in range(n)]\n",
    "search = int(input(\"Enter search value:\"))\n",
    "def linearsearch(n,l,search):\n",
    "    for i in range(n):\n",
    "        if l[i]==search:\n",
    "            return 1\n",
    "result = linearsearch(n,l,search)\n",
    "if result == 1:\n",
    "    print(\"Value found\")\n",
    "else:\n",
    "    print(\"value not found\")"
   ]
  },
  {
   "cell_type": "markdown",
   "id": "5063e512",
   "metadata": {},
   "source": [
    "# Sorting"
   ]
  },
  {
   "cell_type": "code",
   "execution_count": 5,
   "id": "783e43e5",
   "metadata": {},
   "outputs": [
    {
     "name": "stdout",
     "output_type": "stream",
     "text": [
      "Enter size of array :5\n",
      "Enter values :1\n",
      "Enter values :5\n",
      "Enter values :9\n",
      "Enter values :4\n",
      "Enter values :8\n",
      "[1, 4, 5, 8, 9]\n"
     ]
    }
   ],
   "source": [
    "n = int(input(\"Enter size of array :\"))\n",
    "l = [int(input(\"Enter values :\")) for i in range(n)]\n",
    "for i in range(0,len(l)):\n",
    "    for j in range(i+1,len(l)):\n",
    "        if l[i]>=l[j]:\n",
    "            l[i],l[j]=l[j],l[i]\n",
    "print(l)\n"
   ]
  },
  {
   "cell_type": "markdown",
   "id": "758a526d",
   "metadata": {},
   "source": [
    "# Traversing "
   ]
  },
  {
   "cell_type": "code",
   "execution_count": 6,
   "id": "33ddc165",
   "metadata": {},
   "outputs": [
    {
     "name": "stdout",
     "output_type": "stream",
     "text": [
      "45\n",
      "49\n",
      "32\n",
      "54\n",
      "25\n",
      "14\n",
      "36\n",
      "89\n",
      "23\n",
      "47\n",
      "98\n",
      "65\n"
     ]
    }
   ],
   "source": [
    "list = [45,49,32,54,25,14,36,89,23,47,98,65]\n",
    "for i in list:\n",
    "    print(i)"
   ]
  },
  {
   "cell_type": "code",
   "execution_count": 7,
   "id": "cfeb9b85",
   "metadata": {},
   "outputs": [
    {
     "name": "stdout",
     "output_type": "stream",
     "text": [
      "45\n",
      "49\n",
      "32\n",
      "54\n",
      "25\n",
      "14\n",
      "36\n",
      "89\n",
      "23\n",
      "47\n",
      "98\n",
      "65\n"
     ]
    }
   ],
   "source": [
    "list = [45,49,32,54,25,14,36,89,23,47,98,65]\n",
    "i=0\n",
    "while i<len(list):\n",
    "    print(list[i])\n",
    "    i=i+1"
   ]
  },
  {
   "cell_type": "code",
   "execution_count": null,
   "id": "35725cb6",
   "metadata": {},
   "outputs": [],
   "source": []
  }
 ],
 "metadata": {
  "kernelspec": {
   "display_name": "Python 3",
   "language": "python",
   "name": "python3"
  },
  "language_info": {
   "codemirror_mode": {
    "name": "ipython",
    "version": 3
   },
   "file_extension": ".py",
   "mimetype": "text/x-python",
   "name": "python",
   "nbconvert_exporter": "python",
   "pygments_lexer": "ipython3",
   "version": "3.8.8"
  }
 },
 "nbformat": 4,
 "nbformat_minor": 5
}
